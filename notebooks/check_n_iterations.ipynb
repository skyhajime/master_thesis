{
 "cells": [
  {
   "cell_type": "code",
   "execution_count": 1,
   "metadata": {},
   "outputs": [],
   "source": [
    "import os\n",
    "import sys\n",
    "sys.path.append(os.path.dirname(os.getcwd()))\n",
    "\n",
    "import numpy as np\n",
    "from functools import partial\n",
    "from statistics import mean, stdev\n",
    "import time\n",
    "\n",
    "\n",
    "import utils\n",
    "import generators\n",
    "import bases\n",
    "import representations\n",
    "import eigensolvers\n",
    "import const as C\n",
    "\n",
    "def get_circle_obs_krylov(initial_state=0, num_col=200):\n",
    "    return utils.generate_krylov(generators.angle_evolution, generators.full_state_observable, initial_state, num_col)\n",
    "\n",
    "def get_zero_norm_ratio(V):\n",
    "    N = V.shape[1]\n",
    "    n = N\n",
    "    for k in range(N):\n",
    "        if np.linalg.norm(V[:,k]) < C.POWER_EPS:\n",
    "            n -= 1\n",
    "    return n/N\n",
    "\n",
    "def run(U, basis=bases.fourier_basis, degree=10, representation=representations.EDMD_matrix_representation, n_run=10):\n",
    "    K, V, L = representation(U, degree=degree, basis=basis)\n",
    "    results = []\n",
    "    iters = []\n",
    "    for i in range(n_run):\n",
    "        new_L, new_V, n = eigensolvers.power_orthogonal_QR_algorithm(K, partial(basis, degree=degree))\n",
    "        r = get_zero_norm_ratio(new_V)*100\n",
    "        results.append(r)\n",
    "        iters.append(n)\n",
    "        print(\"i={} new V: {:>5.2f}[%] iter {:>5}\".format(i, r, n))\n",
    "    print(\"ratio mean {:>5.1f}[%], std {:>5.2f}\".format(mean(results), stdev(results)))\n",
    "    print(\"iters mean {:>5.1f}, std {:>5.2f}\".format(mean(iters), stdev(iters)))\n",
    "    return results, iters\n",
    "\n",
    "def pure_inv_run(U, basis=bases.fourier_basis, degree=10, representation=representations.EDMD_matrix_representation, n_run=10):\n",
    "    K, V, L = representation(U, degree=degree, basis=basis)\n",
    "    results = []\n",
    "    iters = []\n",
    "    for i in range(n_run):\n",
    "        new_L, new_V, n = eigensolvers.QR_algorithm_with_inverse_iteration(K)\n",
    "        r = get_zero_norm_ratio(new_V)*100\n",
    "        results.append(r)\n",
    "        iters.append(n)\n",
    "        print(\"i={} new V: {:>5.2f}[%] iter {:>5}\".format(i, r, n))\n",
    "    print(\"ratio mean {:>5.1f}[%], std {:>5.2f}\".format(mean(results), stdev(results)))\n",
    "    print(\"iters mean {:>5.1f}, std {:>5.2f}\".format(mean(iters), stdev(iters)))\n",
    "    return results, iters"
   ]
  },
  {
   "cell_type": "code",
   "execution_count": 2,
   "metadata": {},
   "outputs": [],
   "source": [
    "DEGREE = 100\n",
    "N_RUN = 10"
   ]
  },
  {
   "cell_type": "code",
   "execution_count": 3,
   "metadata": {},
   "outputs": [
    {
     "name": "stdout",
     "output_type": "stream",
     "text": [
      "Ut shape(200, 1)\n"
     ]
    }
   ],
   "source": [
    "Ut = np.expand_dims(get_circle_obs_krylov(), axis=1)\n",
    "print(f\"Ut shape{Ut.shape}\")"
   ]
  },
  {
   "attachments": {},
   "cell_type": "markdown",
   "metadata": {},
   "source": [
    "## params\n",
    "POWER_EPS = 1e-1  \n",
    "INV_EPS = 1e-9  \n",
    "ARNOLDI_EPS = 1e-9  \n",
    "DEGREE = 100  \n",
    "N_RUN = 10  "
   ]
  },
  {
   "cell_type": "code",
   "execution_count": 4,
   "metadata": {},
   "outputs": [
    {
     "name": "stdout",
     "output_type": "stream",
     "text": [
      "i=0 new V: 55.72[%] iter 128228\n",
      "i=1 new V: 75.12[%] iter 169888\n",
      "i=2 new V: 68.66[%] iter 156076\n",
      "i=3 new V: 68.16[%] iter 154980\n",
      "i=4 new V: 61.69[%] iter 141208\n",
      "i=5 new V: 50.75[%] iter 117438\n",
      "i=6 new V: 66.17[%] iter 150740\n",
      "i=7 new V: 73.13[%] iter 165710\n",
      "i=8 new V: 100.00[%] iter 221100\n",
      "i=9 new V: 83.08[%] iter 186580\n",
      "ratio mean  70.2[%], std 14.02\n",
      "iters mean 159194.8, std 29559.86\n"
     ]
    }
   ],
   "source": [
    "ns_results, ns_iters = run(Ut, degree=DEGREE, n_run=N_RUN)"
   ]
  },
  {
   "cell_type": "code",
   "execution_count": 5,
   "metadata": {},
   "outputs": [
    {
     "name": "stdout",
     "output_type": "stream",
     "text": [
      "ratio mean 70.25[%], std 14.02\n",
      "iters mean 159194.8, std 29559.86\n"
     ]
    }
   ],
   "source": [
    "print(\"ratio mean {:>5.2f}[%], std {:>5.2f}\".format(mean(ns_results), stdev(ns_results)))\n",
    "print(\"iters mean {:>5}, std {:>5.2f}\".format(mean(ns_iters), stdev(ns_iters)))"
   ]
  },
  {
   "cell_type": "code",
   "execution_count": 6,
   "metadata": {},
   "outputs": [
    {
     "name": "stdout",
     "output_type": "stream",
     "text": [
      "i=0 new V: 100.00[%] iter 201000\n",
      "i=1 new V: 100.00[%] iter 201000\n",
      "i=2 new V: 100.00[%] iter 201000\n",
      "i=3 new V: 100.00[%] iter 201000\n",
      "i=4 new V: 100.00[%] iter 201000\n",
      "i=5 new V: 100.00[%] iter 201000\n",
      "i=6 new V: 100.00[%] iter 201000\n",
      "i=7 new V: 100.00[%] iter 201000\n",
      "i=8 new V: 100.00[%] iter 201000\n",
      "i=9 new V: 100.00[%] iter 201000\n",
      "ratio mean 100.0[%], std  0.00\n",
      "iters mean 201000.0, std  0.00\n"
     ]
    }
   ],
   "source": [
    "p_results, p_iters = pure_inv_run(Ut, degree=DEGREE, n_run=N_RUN)"
   ]
  },
  {
   "cell_type": "code",
   "execution_count": 7,
   "metadata": {},
   "outputs": [
    {
     "data": {
      "text/plain": [
       "0.7024875621890547"
      ]
     },
     "execution_count": 7,
     "metadata": {},
     "output_type": "execute_result"
    }
   ],
   "source": [
    "mean(ns_results)/mean(p_results)"
   ]
  },
  {
   "cell_type": "code",
   "execution_count": 8,
   "metadata": {},
   "outputs": [
    {
     "data": {
      "text/plain": [
       "485100.0"
      ]
     },
     "execution_count": 8,
     "metadata": {},
     "output_type": "execute_result"
    }
   ],
   "source": [
    "100*99*98/2"
   ]
  },
  {
   "cell_type": "code",
   "execution_count": 9,
   "metadata": {},
   "outputs": [],
   "source": [
    "K, V, L = representations.EDMD_matrix_representation(Ut, basis=bases.fourier_basis, degree=100)"
   ]
  },
  {
   "cell_type": "code",
   "execution_count": 10,
   "metadata": {},
   "outputs": [
    {
     "data": {
      "text/plain": [
       "(201, 201)"
      ]
     },
     "execution_count": 10,
     "metadata": {},
     "output_type": "execute_result"
    }
   ],
   "source": [
    "K.shape"
   ]
  },
  {
   "cell_type": "code",
   "execution_count": null,
   "metadata": {},
   "outputs": [],
   "source": []
  }
 ],
 "metadata": {
  "kernelspec": {
   "display_name": "venv",
   "language": "python",
   "name": "python3"
  },
  "language_info": {
   "codemirror_mode": {
    "name": "ipython",
    "version": 3
   },
   "file_extension": ".py",
   "mimetype": "text/x-python",
   "name": "python",
   "nbconvert_exporter": "python",
   "pygments_lexer": "ipython3",
   "version": "3.9.12"
  },
  "orig_nbformat": 4
 },
 "nbformat": 4,
 "nbformat_minor": 2
}
