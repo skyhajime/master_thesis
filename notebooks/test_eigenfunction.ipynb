{
 "cells": [
  {
   "cell_type": "code",
   "execution_count": 1,
   "metadata": {},
   "outputs": [],
   "source": [
    "import os\n",
    "import sys\n",
    "sys.path.append(os.path.dirname(os.getcwd()))\n",
    "\n",
    "import numpy as np\n",
    "from matplotlib import pyplot as plt\n",
    "import math\n",
    "from functools import partial\n",
    "\n",
    "import bases\n",
    "import generators\n",
    "import representations\n",
    "import reconstructions\n",
    "import utils"
   ]
  },
  {
   "cell_type": "code",
   "execution_count": 2,
   "metadata": {},
   "outputs": [],
   "source": [
    "def show_reconstruction_comparison(X, reconstructed_data):\n",
    "    assert X.ndim == 2\n",
    "    assert reconstructed_data.ndim == 2\n",
    "    N, state_dim = X.shape\n",
    "    fig, axs = plt.subplots(nrows=1, ncols=2, figsize=(10, 4))\n",
    "    if state_dim == 1:\n",
    "        axs[0].plot(X)\n",
    "        axs[1].plot(reconstructed_data)\n",
    "    elif state_dim == 2:\n",
    "        axs[0].scatter(X[:,0], X[:,1], c=list(range(N)))\n",
    "        axs[1].scatter(reconstructed_data[:,0], reconstructed_data[:,1], c=list(range(N)))\n",
    "        axs[0].set_xlim(-1,7)\n",
    "        axs[1].set_xlim(-1,7)\n",
    "\n",
    "    axs[0].set_ylabel('original x')\n",
    "    axs[0].set_xlabel('original y')\n",
    "    axs[0].set_ylim(-1,7)\n",
    "\n",
    "    axs[1].set_ylabel('reconstruction x')\n",
    "    axs[1].set_xlabel('reconstruction y')\n",
    "    axs[1].set_ylim(-1,7)\n",
    "\n",
    "    # fig.colorbar(range(N))\n",
    "    plt.show()\n",
    "    return\n",
    "\n",
    "def get_settings(ndim=1, num_col=2000, degree=10, combination=True):\n",
    "    if ndim == 2:\n",
    "        initial_state = (0, 0)\n",
    "        Yr, Xr = utils.generate_krylov(generators.two_torus_evolution_function, generators.two_torus_observable_func, initial_state, num_col)\n",
    "        utils.plot_torus(Yr)\n",
    "    else:\n",
    "        initial_state=0\n",
    "        Yr, Xr = utils.generate_krylov(generators.angle_evolution, generators.unit_circle_observable_function, initial_state, num_col)\n",
    "        utils.plot_complex_on_unit_circle(Yr)\n",
    "    basis = partial(bases.fourier_basis, degree=degree, combinations=combination)\n",
    "    return Xr, basis\n",
    "\n",
    "def test_irrational_flow_eigenfunction(Ur, representation_func, basis):\n",
    "    n_dim = Ur.shape[1]\n",
    "    K, V, L = representation_func(Ur, basis=basis)\n",
    "    Ph = lambda x: basis(x)@V\n",
    "    eigenfunction_values = np.array([np.squeeze(Ph(d)) for d in np.linspace([0 for _ in range(n_dim)], [2*np.pi for _ in range(n_dim)])])\n",
    "    N, r = eigenfunction_values.shape\n",
    "    print(f\"N: {N}, r: {r}\")\n",
    "    r = min(15, r)  # remove at the end\n",
    "    n_col = 5\n",
    "    n_row = math.ceil(r/n_col)\n",
    "    fig, axs = plt.subplots(nrows=n_row, ncols=n_col, figsize=(3*n_col, 3*n_row))\n",
    "    fig.suptitle(\"eigenfunction value evolution\")\n",
    "    for i in range(r):\n",
    "        utils.set_subplot_complex_on_unit_circle(eigenfunction_values[:,i], axs[i//n_col, i%n_col])\n",
    "    plt.show()\n",
    "    return Ph, V, L\n",
    "\n",
    "def compare_reconstructed_data(Ur, Ph, V, L, basis, is_print=False):\n",
    "    W = np.linalg.inv(V)\n",
    "    KM = reconstructions.get_koopman_modes(Ur, W, basis)\n",
    "    Ph_val = Ph(Ur[0])\n",
    "    reconstructed_data = np.array([np.squeeze(Ph_val @ np.diag(np.power(L, k)) @ KM) for k in range(Ur.shape[0])])\n",
    "    if reconstructed_data.ndim == 1:\n",
    "        reconstructed_data = np.expand_dims(reconstructed_data, axis=1)\n",
    "    if is_print:\n",
    "        print(f\"KM {KM.shape}, Ph {Ph_val.shape}, L {L.shape}\")\n",
    "        print(f\"reconstruction {reconstructed_data.shape}\")\n",
    "    show_reconstruction_comparison(Ur, reconstructed_data)\n",
    "    return reconstructed_data"
   ]
  },
  {
   "attachments": {},
   "cell_type": "markdown",
   "metadata": {},
   "source": [
    "# Show eigenfunction evolution"
   ]
  },
  {
   "cell_type": "code",
   "execution_count": 3,
   "metadata": {},
   "outputs": [
    {
     "ename": "TypeError",
     "evalue": "angle_evolution() got an unexpected keyword argument 'step'",
     "output_type": "error",
     "traceback": [
      "\u001b[0;31m---------------------------------------------------------------------------\u001b[0m",
      "\u001b[0;31mTypeError\u001b[0m                                 Traceback (most recent call last)",
      "\u001b[1;32m/Users/hajime/workspace/tum/Master's Thesis/notebooks/test_eigenfunction.ipynb Cell 4\u001b[0m line \u001b[0;36m2\n\u001b[1;32m      <a href='vscode-notebook-cell:/Users/hajime/workspace/tum/Master%27s%20Thesis/notebooks/test_eigenfunction.ipynb#W3sZmlsZQ%3D%3D?line=0'>1</a>\u001b[0m STATE_DIM \u001b[39m=\u001b[39m \u001b[39m2\u001b[39m\n\u001b[0;32m----> <a href='vscode-notebook-cell:/Users/hajime/workspace/tum/Master%27s%20Thesis/notebooks/test_eigenfunction.ipynb#W3sZmlsZQ%3D%3D?line=1'>2</a>\u001b[0m Ur, basis \u001b[39m=\u001b[39m get_settings(ndim\u001b[39m=\u001b[39;49mSTATE_DIM)\n",
      "\u001b[1;32m/Users/hajime/workspace/tum/Master's Thesis/notebooks/test_eigenfunction.ipynb Cell 4\u001b[0m line \u001b[0;36m3\n\u001b[1;32m     <a href='vscode-notebook-cell:/Users/hajime/workspace/tum/Master%27s%20Thesis/notebooks/test_eigenfunction.ipynb#W3sZmlsZQ%3D%3D?line=27'>28</a>\u001b[0m \u001b[39mif\u001b[39;00m ndim \u001b[39m==\u001b[39m \u001b[39m2\u001b[39m:\n\u001b[1;32m     <a href='vscode-notebook-cell:/Users/hajime/workspace/tum/Master%27s%20Thesis/notebooks/test_eigenfunction.ipynb#W3sZmlsZQ%3D%3D?line=28'>29</a>\u001b[0m     initial_state \u001b[39m=\u001b[39m (\u001b[39m0\u001b[39m, \u001b[39m0\u001b[39m)\n\u001b[0;32m---> <a href='vscode-notebook-cell:/Users/hajime/workspace/tum/Master%27s%20Thesis/notebooks/test_eigenfunction.ipynb#W3sZmlsZQ%3D%3D?line=29'>30</a>\u001b[0m     Yr, Xr \u001b[39m=\u001b[39m utils\u001b[39m.\u001b[39;49mgenerate_krylov(generators\u001b[39m.\u001b[39;49mtwo_torus_evolution_function, generators\u001b[39m.\u001b[39;49mtwo_torus_observable_func, initial_state, num_col)\n\u001b[1;32m     <a href='vscode-notebook-cell:/Users/hajime/workspace/tum/Master%27s%20Thesis/notebooks/test_eigenfunction.ipynb#W3sZmlsZQ%3D%3D?line=30'>31</a>\u001b[0m     utils\u001b[39m.\u001b[39mplot_torus(Yr)\n\u001b[1;32m     <a href='vscode-notebook-cell:/Users/hajime/workspace/tum/Master%27s%20Thesis/notebooks/test_eigenfunction.ipynb#W3sZmlsZQ%3D%3D?line=31'>32</a>\u001b[0m \u001b[39melse\u001b[39;00m:\n",
      "File \u001b[0;32m~/workspace/tum/Master's Thesis/utils.py:22\u001b[0m, in \u001b[0;36mgenerate_krylov\u001b[0;34m(evolution_function, observable_function, initial_point, num_col)\u001b[0m\n\u001b[1;32m     20\u001b[0m     Er\u001b[39m.\u001b[39mappend(curr_state)\n\u001b[1;32m     21\u001b[0m     Kr\u001b[39m.\u001b[39mappend(observable_function(curr_state))\n\u001b[0;32m---> 22\u001b[0m     curr_state \u001b[39m=\u001b[39m evolution_function(curr_state)\n\u001b[1;32m     23\u001b[0m npK \u001b[39m=\u001b[39m np\u001b[39m.\u001b[39marray(Kr)\n\u001b[1;32m     24\u001b[0m npE \u001b[39m=\u001b[39m np\u001b[39m.\u001b[39marray(Er)\n",
      "File \u001b[0;32m~/workspace/tum/Master's Thesis/generators.py:15\u001b[0m, in \u001b[0;36mtwo_torus_evolution_function\u001b[0;34m(state, alpha, step)\u001b[0m\n\u001b[1;32m     13\u001b[0m \u001b[39mdef\u001b[39;00m \u001b[39mtwo_torus_evolution_function\u001b[39m(state, alpha\u001b[39m=\u001b[39mnp\u001b[39m.\u001b[39msqrt(\u001b[39m3\u001b[39m), step\u001b[39m=\u001b[39m\u001b[39m2\u001b[39m\u001b[39m*\u001b[39mnp\u001b[39m.\u001b[39mpi\u001b[39m/\u001b[39m\u001b[39m100\u001b[39m):\n\u001b[1;32m     14\u001b[0m     \u001b[39mreturn\u001b[39;00m [\n\u001b[0;32m---> 15\u001b[0m         angle_evolution(state[\u001b[39m0\u001b[39;49m], alpha\u001b[39m=\u001b[39;49m\u001b[39m1\u001b[39;49m, step\u001b[39m=\u001b[39;49mstep),\n\u001b[1;32m     16\u001b[0m         angle_evolution(state[\u001b[39m1\u001b[39m], alpha\u001b[39m=\u001b[39malpha, step\u001b[39m=\u001b[39mstep),\n\u001b[1;32m     17\u001b[0m     ]\n",
      "\u001b[0;31mTypeError\u001b[0m: angle_evolution() got an unexpected keyword argument 'step'"
     ]
    }
   ],
   "source": [
    "STATE_DIM = 2\n",
    "Ur, basis = get_settings(ndim=STATE_DIM)"
   ]
  },
  {
   "cell_type": "code",
   "execution_count": null,
   "metadata": {},
   "outputs": [],
   "source": [
    "Ph1, V1, L1 = test_irrational_flow_eigenfunction(Ur, representations.EDMD_matrix_representation, basis)"
   ]
  },
  {
   "cell_type": "code",
   "execution_count": null,
   "metadata": {},
   "outputs": [],
   "source": [
    "Ph2, V2, L2 = test_irrational_flow_eigenfunction(Ur, representations.mpEDMD_matrix_representation, basis)"
   ]
  },
  {
   "attachments": {},
   "cell_type": "markdown",
   "metadata": {},
   "source": [
    "# Data reconstruction check"
   ]
  },
  {
   "cell_type": "code",
   "execution_count": null,
   "metadata": {},
   "outputs": [],
   "source": [
    "reconstructed_data1 = compare_reconstructed_data(Ur, Ph1, V1, L1, basis, is_print=False)"
   ]
  },
  {
   "cell_type": "code",
   "execution_count": null,
   "metadata": {},
   "outputs": [],
   "source": [
    "reconstructed_data2 = compare_reconstructed_data(Ur, Ph2, V2, L2, basis, is_print=False)"
   ]
  },
  {
   "cell_type": "code",
   "execution_count": null,
   "metadata": {},
   "outputs": [],
   "source": []
  }
 ],
 "metadata": {
  "kernelspec": {
   "display_name": "venv",
   "language": "python",
   "name": "python3"
  },
  "language_info": {
   "codemirror_mode": {
    "name": "ipython",
    "version": 3
   },
   "file_extension": ".py",
   "mimetype": "text/x-python",
   "name": "python",
   "nbconvert_exporter": "python",
   "pygments_lexer": "ipython3",
   "version": "3.9.12"
  },
  "orig_nbformat": 4
 },
 "nbformat": 4,
 "nbformat_minor": 2
}
