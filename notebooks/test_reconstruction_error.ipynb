{
 "cells": [
  {
   "cell_type": "code",
   "execution_count": 1,
   "metadata": {},
   "outputs": [],
   "source": [
    "import os\n",
    "import sys\n",
    "sys.path.append(os.path.dirname(os.getcwd()))\n",
    "\n",
    "import numpy as np\n",
    "from matplotlib import pyplot as plt\n",
    "import seaborn as sns\n",
    "import pandas as pd\n",
    "import math\n",
    "from functools import partial\n",
    "from tqdm import tqdm\n",
    "import time\n",
    "\n",
    "import bases\n",
    "import eigensolvers\n",
    "import functionals\n",
    "import generators\n",
    "import representations\n",
    "import reconstructions\n",
    "import utils\n",
    "from test_base import TestNDTorus"
   ]
  },
  {
   "cell_type": "code",
   "execution_count": 2,
   "metadata": {},
   "outputs": [],
   "source": [
    "def compare_plot_on_unit_square(data1, data2):\n",
    "    assert data1.ndim == 2\n",
    "    assert data2.ndim == 2\n",
    "    N = len(data1)\n",
    "    fig, axs = plt.subplots(nrows=1, ncols=2, figsize=(10, 4))\n",
    "    utils.set_subplot_complex_on_unit_circle(data1, axs[0])\n",
    "    utils.set_subplot_complex_on_unit_circle(data2, axs[1])\n",
    "    plt.show()\n",
    "    return"
   ]
  },
  {
   "cell_type": "code",
   "execution_count": 3,
   "metadata": {},
   "outputs": [],
   "source": [
    "kwargs = {\n",
    "    'n_dim': 1,\n",
    "    'degree': 100,\n",
    "    'num_col': 10**4,\n",
    "}\n",
    "tnd = TestNDTorus(**kwargs)\n",
    "K, V, L = tnd._get_matrix()\n",
    "eigenvalues, true_V, _ = eigensolvers.QR_algorithm_with_inverse_iteration(K)\n",
    "_, rpower_V, _ = eigensolvers.QR_algorithm_with_power_vector(K, tnd.basis, tnd.Xr.shape[1])\n",
    "iL, ipower_V, _, _ = eigensolvers.inverse_iteration_with_integer_power(K, tnd.basis, n_dim=tnd.Xr.shape[1], n_inv=2, eigenvalue_approx=eigenvalues)\n",
    "mp_KM = reconstructions.get_koopman_modes(tnd.Xr, np.linalg.inv(V), tnd.basis)\n",
    "tr_KM = reconstructions.get_koopman_modes(tnd.Xr, np.linalg.inv(true_V), tnd.basis)\n",
    "rpo_KM = reconstructions.get_koopman_modes(tnd.Xr, np.linalg.inv(rpower_V), tnd.basis)\n",
    "ipo_KM = reconstructions.get_koopman_modes(tnd.Xr, np.linalg.inv(ipower_V), tnd.basis)\n",
    "mpPh = tnd.basis(tnd.Xr[0])@V\n",
    "trPh = tnd.basis(tnd.Xr[0])@true_V\n",
    "rpoPh = tnd.basis(tnd.Xr[0])@rpower_V\n",
    "ipoPh = tnd.basis(tnd.Xr[0])@ipower_V\n",
    "M = tnd.Xr.shape[0]\n",
    "mp_reconstruction = np.array([np.squeeze(mpPh @ np.diag(np.power(L, k)) @ mp_KM) for k in range(M)])\n",
    "tr_reconstruction = np.array([np.squeeze(trPh @ np.diag(np.power(L, k)) @ tr_KM) for k in range(M)])\n",
    "rpo_reconstruction = np.array([np.squeeze(rpoPh @ np.diag(np.power(L, k)) @ rpo_KM) for k in range(M)])\n",
    "ipo_reconstruction = np.array([np.squeeze(ipoPh @ np.diag(np.power(iL, k)) @ ipo_KM) for k in range(M)])\n",
    "original_data = np.squeeze(tnd.Xr)"
   ]
  },
  {
   "cell_type": "code",
   "execution_count": 4,
   "metadata": {},
   "outputs": [
    {
     "data": {
      "text/plain": [
       "0.0015589558560897769"
      ]
     },
     "execution_count": 4,
     "metadata": {},
     "output_type": "execute_result"
    }
   ],
   "source": [
    "np.linalg.norm(original_data - mp_reconstruction)/M"
   ]
  },
  {
   "cell_type": "code",
   "execution_count": 5,
   "metadata": {},
   "outputs": [
    {
     "data": {
      "text/plain": [
       "0.02604238982815002"
      ]
     },
     "execution_count": 5,
     "metadata": {},
     "output_type": "execute_result"
    }
   ],
   "source": [
    "np.linalg.norm(original_data - tr_reconstruction)/M"
   ]
  },
  {
   "cell_type": "code",
   "execution_count": 6,
   "metadata": {},
   "outputs": [
    {
     "data": {
      "text/plain": [
       "229856338962334.22"
      ]
     },
     "execution_count": 6,
     "metadata": {},
     "output_type": "execute_result"
    }
   ],
   "source": [
    "np.linalg.norm(original_data - rpo_reconstruction)/M"
   ]
  },
  {
   "cell_type": "code",
   "execution_count": 7,
   "metadata": {},
   "outputs": [
    {
     "data": {
      "text/plain": [
       "1104237.2150640406"
      ]
     },
     "execution_count": 7,
     "metadata": {},
     "output_type": "execute_result"
    }
   ],
   "source": [
    "np.linalg.norm(original_data - ipo_reconstruction)/M"
   ]
  },
  {
   "cell_type": "code",
   "execution_count": 8,
   "metadata": {},
   "outputs": [
    {
     "name": "stdout",
     "output_type": "stream",
     "text": [
      "n_inv=1, norm=1549183.67, time_taken=192.41170978546143\n",
      "n_inv=51, norm=260.34, time_taken=148.71408486366272\n",
      "n_inv=101, norm=369.41, time_taken=106.30403089523315\n",
      "n_inv=151, norm=590.58, time_taken=64.16887497901917\n",
      "n_inv=201, norm=0.02, time_taken=23.667874097824097\n"
     ]
    }
   ],
   "source": [
    "r = L.shape[0]\n",
    "results = []\n",
    "for n_inv in range(1, r+1, 50):\n",
    "    try:\n",
    "        st = time.time()\n",
    "        iL, ipower_V, _, performed_powers = eigensolvers.inverse_iteration_with_integer_power(K, tnd.basis, n_dim=tnd.Xr.shape[1], n_inv=n_inv, eigenvalue_approx=eigenvalues)\n",
    "        ipo_KM = reconstructions.get_koopman_modes(tnd.Xr, np.linalg.inv(ipower_V), tnd.basis)\n",
    "        ipoPh = tnd.basis(tnd.Xr[0])@ipower_V\n",
    "        ipo_reconstruction = np.array([np.squeeze(ipoPh @ np.diag(np.power(iL, k)) @ ipo_KM) for k in range(M)])\n",
    "        et = time.time()\n",
    "        original_data = np.squeeze(tnd.Xr)\n",
    "        error = np.linalg.norm(original_data - ipo_reconstruction)/M\n",
    "        print(f\"n_inv={n_inv}, norm={round(error, 2)}, time_taken={et-st}\")\n",
    "        results.append((n_inv, error, et-st))\n",
    "    except AssertionError:\n",
    "        print(f\"n_inv={n_inv}, eigenvalue assertion error.\")\n",
    "        continue\n",
    "    except np.linalg.LinAlgError:\n",
    "        print(f\"n_inv={n_inv}, matrix inverse error\")"
   ]
  },
  {
   "cell_type": "code",
   "execution_count": 9,
   "metadata": {},
   "outputs": [
    {
     "data": {
      "text/plain": [
       "[(1, 1549183.6694562233, 192.41170978546143),\n",
       " (51, 260.34133997217856, 148.71408486366272),\n",
       " (101, 369.40634214598765, 106.30403089523315),\n",
       " (151, 590.5787081091904, 64.16887497901917),\n",
       " (201, 0.024365611629635346, 23.667874097824097)]"
      ]
     },
     "execution_count": 9,
     "metadata": {},
     "output_type": "execute_result"
    }
   ],
   "source": [
    "results"
   ]
  },
  {
   "cell_type": "code",
   "execution_count": 10,
   "metadata": {},
   "outputs": [
    {
     "data": {
      "text/html": [
       "<div>\n",
       "<style scoped>\n",
       "    .dataframe tbody tr th:only-of-type {\n",
       "        vertical-align: middle;\n",
       "    }\n",
       "\n",
       "    .dataframe tbody tr th {\n",
       "        vertical-align: top;\n",
       "    }\n",
       "\n",
       "    .dataframe thead th {\n",
       "        text-align: right;\n",
       "    }\n",
       "</style>\n",
       "<table border=\"1\" class=\"dataframe\">\n",
       "  <thead>\n",
       "    <tr style=\"text-align: right;\">\n",
       "      <th></th>\n",
       "      <th>0</th>\n",
       "      <th>1</th>\n",
       "      <th>2</th>\n",
       "    </tr>\n",
       "  </thead>\n",
       "  <tbody>\n",
       "    <tr>\n",
       "      <th>0</th>\n",
       "      <td>1</td>\n",
       "      <td>1.55e+06</td>\n",
       "      <td>192.41</td>\n",
       "    </tr>\n",
       "    <tr>\n",
       "      <th>1</th>\n",
       "      <td>51</td>\n",
       "      <td>2.60e+02</td>\n",
       "      <td>148.71</td>\n",
       "    </tr>\n",
       "    <tr>\n",
       "      <th>2</th>\n",
       "      <td>101</td>\n",
       "      <td>3.69e+02</td>\n",
       "      <td>106.30</td>\n",
       "    </tr>\n",
       "    <tr>\n",
       "      <th>3</th>\n",
       "      <td>151</td>\n",
       "      <td>5.91e+02</td>\n",
       "      <td>64.17</td>\n",
       "    </tr>\n",
       "    <tr>\n",
       "      <th>4</th>\n",
       "      <td>201</td>\n",
       "      <td>2.44e-02</td>\n",
       "      <td>23.67</td>\n",
       "    </tr>\n",
       "  </tbody>\n",
       "</table>\n",
       "</div>"
      ],
      "text/plain": [
       "     0         1       2\n",
       "0    1  1.55e+06  192.41\n",
       "1   51  2.60e+02  148.71\n",
       "2  101  3.69e+02  106.30\n",
       "3  151  5.91e+02   64.17\n",
       "4  201  2.44e-02   23.67"
      ]
     },
     "execution_count": 10,
     "metadata": {},
     "output_type": "execute_result"
    }
   ],
   "source": [
    "pd.set_option(\"display.precision\", 2)\n",
    "pd.DataFrame.from_records(results)"
   ]
  },
  {
   "cell_type": "code",
   "execution_count": null,
   "metadata": {},
   "outputs": [],
   "source": []
  }
 ],
 "metadata": {
  "kernelspec": {
   "display_name": "venv",
   "language": "python",
   "name": "python3"
  },
  "language_info": {
   "codemirror_mode": {
    "name": "ipython",
    "version": 3
   },
   "file_extension": ".py",
   "mimetype": "text/x-python",
   "name": "python",
   "nbconvert_exporter": "python",
   "pygments_lexer": "ipython3",
   "version": "3.9.12"
  }
 },
 "nbformat": 4,
 "nbformat_minor": 2
}
