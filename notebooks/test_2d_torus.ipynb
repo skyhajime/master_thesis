{
 "cells": [
  {
   "cell_type": "code",
   "execution_count": 1,
   "metadata": {},
   "outputs": [],
   "source": [
    "import os\n",
    "import sys\n",
    "sys.path.append(os.path.dirname(os.getcwd()))\n",
    "\n",
    "import numpy as np\n",
    "import pandas as pd\n",
    "from functools import partial\n",
    "\n",
    "import eigensolvers\n",
    "import representations\n",
    "import utils\n",
    "import generators\n",
    "import bases\n",
    "\n",
    "def get_torus_obs_krylov(initial_state=(0,0), num_col=500):\n",
    "    return utils.generate_krylov(generators.two_torus_evolution_function, generators.two_torus_observable_func, initial_state, num_col)"
   ]
  },
  {
   "cell_type": "code",
   "execution_count": null,
   "metadata": {},
   "outputs": [],
   "source": [
    "DEGREE = 5"
   ]
  },
  {
   "cell_type": "code",
   "execution_count": null,
   "metadata": {},
   "outputs": [],
   "source": [
    "Xr, Er = get_torus_obs_krylov()\n",
    "print(f\"Xr shape{Xr.shape}\")\n",
    "print(f\"Er shape{Er.shape}\")"
   ]
  },
  {
   "cell_type": "code",
   "execution_count": null,
   "metadata": {},
   "outputs": [],
   "source": [
    "utils.plot_torus(Xr)"
   ]
  },
  {
   "cell_type": "code",
   "execution_count": null,
   "metadata": {},
   "outputs": [],
   "source": [
    "print(\"i = 0\")\n",
    "utils.plot_complex_on_unit_circle(np.exp(1j*Er[:,0]))\n",
    "print(\"i = 1\")\n",
    "utils.plot_complex_on_unit_circle(np.exp(1j*Er[:,1]))"
   ]
  },
  {
   "cell_type": "code",
   "execution_count": null,
   "metadata": {},
   "outputs": [],
   "source": [
    "K, V, D = representations.mpEDMD_matrix_representation(Xr, basis=partial(bases.fourier_basis, degree=DEGREE))\n",
    "print(K.shape)\n",
    "utils.plot_complex_on_unit_circle(D)"
   ]
  },
  {
   "cell_type": "code",
   "execution_count": null,
   "metadata": {},
   "outputs": [],
   "source": []
  }
 ],
 "metadata": {
  "kernelspec": {
   "display_name": "venv",
   "language": "python",
   "name": "python3"
  },
  "language_info": {
   "codemirror_mode": {
    "name": "ipython",
    "version": 3
   },
   "file_extension": ".py",
   "mimetype": "text/x-python",
   "name": "python",
   "nbconvert_exporter": "python",
   "pygments_lexer": "ipython3",
   "version": "3.9.12"
  },
  "orig_nbformat": 4
 },
 "nbformat": 4,
 "nbformat_minor": 2
}
