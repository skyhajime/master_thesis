{
 "cells": [
  {
   "cell_type": "code",
   "execution_count": 1,
   "metadata": {},
   "outputs": [],
   "source": [
    "import os\n",
    "import sys\n",
    "sys.path.append(os.path.dirname(os.getcwd()))\n",
    "\n",
    "import numpy as np\n",
    "from matplotlib import pyplot as plt\n",
    "import seaborn as sns\n",
    "import pandas as pd\n",
    "import math\n",
    "from functools import partial\n",
    "\n",
    "import bases\n",
    "import eigensolvers\n",
    "import functionals\n",
    "import generators\n",
    "import otrhogonalizations\n",
    "import representations\n",
    "import reconstructions\n",
    "import utils"
   ]
  },
  {
   "cell_type": "code",
   "execution_count": 2,
   "metadata": {},
   "outputs": [],
   "source": [
    "class TestEigenfunc:\n",
    "    def __init__(self, *args, **kwargs):\n",
    "        self.frequency = kwargs.get('frequency', np.sqrt(2)/10)\n",
    "        self.initial_state = kwargs.get('initial_state', 0)\n",
    "        self.degree = kwargs.get('degree', 100)\n",
    "        self.num_col = kwargs.get('num_col', 10**4)\n",
    "        self.representation_func = representations.mpEDMD_matrix_representation\n",
    "    \n",
    "    def get_true_eigenfunction(self, eigenvalue):\n",
    "        \"\"\"\n",
    "        For the the frequency w, and the eigenvalue np.exp(1j*2*pi*n*w),\n",
    "        the corresponding eigenfunction should be phi(x) = np.exp(1j*2*pi*n*x).\n",
    "        \"\"\"\n",
    "        ev_angle = np.angle(eigenvalue)  # should be 2*pi*n*w\n",
    "        ef_angle = ev_angle / self.frequency  # should be 2*pi*n\n",
    "        ef = lambda x: np.exp(1j * ef_angle * x)  # should be phi(x) = np.exp(1j*2*pi*n*x)\n",
    "        return ef\n",
    "\n",
    "    def get_true_eigenvector(self, eigenvalues, basis):\n",
    "        r = eigenvalues.shape[0]\n",
    "        V = np.empty((r, r)).astype('complex128')\n",
    "        for i in range(r):\n",
    "            ef = self.get_true_eigenfunction(eigenvalues[i])\n",
    "            V[i,:] = functionals.functional_inner_product(ef, basis, -np.pi, np.pi, input_size=1)\n",
    "        return V\n",
    "    \n",
    "    def get_power_vector_with_true_eigenfunction(self, eigenvalues, basis):\n",
    "        r = eigenvalues.shape[0]\n",
    "        V = np.empty((r, r))\n",
    "        for i in range(r):\n",
    "            true_eigenfunction = self.get_true_eigenfunction(eigenvalues[i])\n",
    "            p_vec = functionals.functional_inner_product(true_eigenfunction, basis, -np.pi, np.pi, input_size=1)\n",
    "            V[:,i] = p_vec\n",
    "        return V\n",
    "\n",
    "    def get_power_function(self, eigenfunction, p, x):\n",
    "        angle = np.angle(eigenfunction(x))\n",
    "        return np.exp(1j*angle*p)\n",
    "\n",
    "    def get_power_vector_with_one_true_eigenfunction(self, eigenvalues, basis):\n",
    "        r = eigenvalues.shape[0]\n",
    "        V = np.empty((r, r)).astype('complex128')\n",
    "        true_eigenfunction = self.get_true_eigenfunction(eigenvalues[0])\n",
    "        angles = np.angle(eigenvalues)\n",
    "        for i in range(r):\n",
    "            p = angles[i]/angles[0]\n",
    "            assert np.isclose(eigenvalues[i], eigenvalues[0]**p)\n",
    "            p_phi = lambda x: pow(true_eigenfunction(x), p)\n",
    "            # p_phi = lambda x: np.exp(1j*np.angle(true_eigenfunction(x))*p)\n",
    "            p_vec = functionals.functional_inner_product(p_phi, basis, -np.pi, np.pi, input_size=1)\n",
    "            V[:,i] = p_vec\n",
    "        return V\n",
    "\n",
    "    def get_settings(self):\n",
    "        Yr, Xr = utils.generate_krylov(partial(generators.angle_evolution, alpha=self.frequency), generators.unit_circle_observable_function, self.initial_state, self.num_col)\n",
    "        utils.plot_complex_on_unit_circle(Yr)\n",
    "        basis = partial(bases.fourier_basis, degree=self.degree, combinations=True)\n",
    "        return Xr, basis\n",
    "    \n",
    "    def plot_eigenfunctions(self, domain, N, n_row, n_col, mp_ef_val, new_ef_val, tr_ef_val, pow_ef_val):\n",
    "        fig, axs = plt.subplots(nrows=n_row, ncols=n_col, figsize=(16, 6*n_row))\n",
    "        labels = ['mpEDMD', 'QR+EIG', 'QR+Power', 'True']\n",
    "        for idx in range(N):\n",
    "            if n_col==1:\n",
    "                ax = axs[idx]\n",
    "            else:\n",
    "                i = idx//n_col\n",
    "                j = idx%n_col\n",
    "                ax = axs[i, j]\n",
    "            ax.plot(domain, mp_ef_val[:,idx].real, 'b-.')\n",
    "            ax.plot(domain, new_ef_val[:,idx].real, 'r--')\n",
    "            ax.plot(domain, pow_ef_val[:,idx].real, 'm:')\n",
    "            ax.plot(domain, tr_ef_val[:,idx].real, 'g-')\n",
    "            ax.legend(labels)\n",
    "        plt.show()\n",
    "\n",
    "    def compare_on_unit_circle(self, val1, val2, val3, val4, n_row=3, N_max=20):\n",
    "        n_col = 4\n",
    "        fig, axs = plt.subplots(nrows=n_row, ncols=n_col, figsize=(3*n_col, 3*n_row))\n",
    "        # fig.suptitle(\"eigenfunction value evolution\")\n",
    "        col_names = ['mpEDMD', 'True', 'QR+EIG', 'QR+Power']\n",
    "        for c, name in enumerate(col_names):\n",
    "            axs[0, c].set_title(name)\n",
    "        for i in range(n_row):\n",
    "            utils.set_subplot_complex_on_unit_circle(val1[:N_max,2*i], axs[i, 0], add_color=True)\n",
    "            utils.set_subplot_complex_on_unit_circle(val2[:N_max,2*i], axs[i, 1], add_color=True)\n",
    "            utils.set_subplot_complex_on_unit_circle(val3[:N_max,2*i], axs[i, 2], add_color=True)\n",
    "            utils.set_subplot_complex_on_unit_circle(val4[:N_max,2*i], axs[i, 3], add_color=True)\n",
    "        plt.show()\n",
    "\n",
    "    def show_orthogonality_heatmap(self, V, L, vmin=0, vmax=None, title='Title'):\n",
    "        df = pd.DataFrame(abs(V@V.T.conj()), index=L, columns=L)\n",
    "        fig, ax = plt.subplots(figsize=(4*self.degree, 3*self.degree))\n",
    "        ax.set_title(title)\n",
    "        sns.heatmap(df, vmin=vmin, vmax=vmax, linewidth=0.5, ax=ax, annot=True, fmt='.2f')\n",
    "        plt.show()\n",
    "        return\n",
    "\n",
    "    def show_E1_value(self, V1, V2, eigenvalues):\n",
    "        r = V1.shape[0]\n",
    "        self.ip = [1-abs(np.inner(V1[:,k], V2[:,k].conj()))/(2*np.pi) for k in range(r)]\n",
    "        fig, ax = plt.subplots(figsize=(10, 5))\n",
    "        ev_angles = np.angle(eigenvalues)\n",
    "        self.p = [ev_angles[k]/ev_angles[0] for k in range(r)]\n",
    "        ax.scatter(self.p, self.ip)\n",
    "        plt.show()\n",
    "        self.special_idxes = [i for i, e in enumerate(self.ip) if e < 0.1]\n",
    "        return\n",
    "\n",
    "    def run(self):\n",
    "        self.Xr, self.basis = self.get_settings()\n",
    "        self.K, self.V, self.L = self.representation_func(self.Xr, basis=self.basis)\n",
    "        _, self.true_V, _ = eigensolvers.QR_algorithm_with_inverse_iteration(self.K)\n",
    "        _, self.power_V, _ = eigensolvers.QR_algorithm_with_power_vector(self.K, self.basis, self.Xr.shape[1])\n",
    "        self.show_E1_value(self.power_V, self.true_V, self.L)\n",
    "        return "
   ]
  },
  {
   "cell_type": "code",
   "execution_count": 3,
   "metadata": {},
   "outputs": [
    {
     "data": {
      "image/png": "[encoded data removed]",
      "text/plain": [
       "<Figure size 500x500 with 1 Axes>"
      ]
     },
     "metadata": {},
     "output_type": "display_data"
    },
    {
     "data": {
      "image/png": "[encoded data removed]",
      "text/plain": [
       "<Figure size 1000x500 with 1 Axes>"
      ]
     },
     "metadata": {},
     "output_type": "display_data"
    }
   ],
   "source": [
    "tef = TestEigenfunc()\n",
    "tef.run()"
   ]
  },
  {
   "cell_type": "code",
   "execution_count": 4,
   "metadata": {},
   "outputs": [
    {
     "data": {
      "text/plain": [
       "[0, 11, 176]"
      ]
     },
     "execution_count": 4,
     "metadata": {},
     "output_type": "execute_result"
    }
   ],
   "source": [
    "tef.special_idxes"
   ]
  },
  {
   "cell_type": "code",
   "execution_count": 7,
   "metadata": {},
   "outputs": [
    {
     "data": {
      "text/plain": [
       "[1.0, 1.1395189465197908, 0.10080185815880363]"
      ]
     },
     "execution_count": 7,
     "metadata": {},
     "output_type": "execute_result"
    }
   ],
   "source": [
    "[p for i, p in enumerate(tef.p) if i in tef.special_idxes]"
   ]
  },
  {
   "cell_type": "code",
   "execution_count": 8,
   "metadata": {},
   "outputs": [
    {
     "data": {
      "text/plain": [
       "0.1414213562373095"
      ]
     },
     "execution_count": 8,
     "metadata": {},
     "output_type": "execute_result"
    }
   ],
   "source": [
    "tef.frequency"
   ]
  },
  {
   "cell_type": "code",
   "execution_count": null,
   "metadata": {},
   "outputs": [],
   "source": []
  }
 ],
 "metadata": {
  "kernelspec": {
   "display_name": "venv",
   "language": "python",
   "name": "python3"
  },
  "language_info": {
   "codemirror_mode": {
    "name": "ipython",
    "version": 3
   },
   "file_extension": ".py",
   "mimetype": "text/x-python",
   "name": "python",
   "nbconvert_exporter": "python",
   "pygments_lexer": "ipython3",
   "version": "3.9.12"
  },
  "orig_nbformat": 4
 },
 "nbformat": 4,
 "nbformat_minor": 2
}
