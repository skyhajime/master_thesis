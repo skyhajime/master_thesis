{
 "cells": [
  {
   "cell_type": "code",
   "execution_count": 1,
   "metadata": {},
   "outputs": [],
   "source": [
    "import os\n",
    "import sys\n",
    "sys.path.append(os.path.dirname(os.getcwd()))\n",
    "\n",
    "import numpy as np\n",
    "from functools import partial\n",
    "from statistics import mean, stdev\n",
    "import time\n",
    "\n",
    "\n",
    "import utils\n",
    "import generators\n",
    "import bases\n",
    "import representations\n",
    "import eigensolvers\n",
    "import const as C\n",
    "\n",
    "def get_circle_obs_krylov(initial_state=0, num_col=200):\n",
    "    return utils.generate_krylov(generators.angle_evolution, generators.full_state_observable, initial_state, num_col)\n",
    "\n",
    "def get_zero_norm_ratio(V):\n",
    "    N = V.shape[1]\n",
    "    n = N\n",
    "    for k in range(N):\n",
    "        if np.linalg.norm(V[:,k]) < C.POWER_EPS:\n",
    "            n -= 1\n",
    "    return n/N\n",
    "\n",
    "def run(U, basis=bases.fourier_basis, degree=100, representation=representations.EDMD_matrix_representation, n_run=10):\n",
    "    K, V, L = representation(U, degree=degree, basis=basis)\n",
    "    results = []\n",
    "    times = []\n",
    "    for i in range(n_run):\n",
    "        st = time.time()\n",
    "        new_L, new_V = eigensolvers.power_orthogonal_QR_algorithm(K, partial(basis, degree=degree))\n",
    "        et = time.time()\n",
    "        r = get_zero_norm_ratio(new_V)\n",
    "        m = (et-st)/60\n",
    "        results.append(r)\n",
    "        times.append(m)\n",
    "        print(f\"i={i} new V: {r} time {m}[m]\")\n",
    "    print(\"ratio mean {:>5.2f}, std {:>5.2f}\".format(mean(results), stdev(results)))\n",
    "    print(\"time  mean {:>5.2f}, std {:>5.2f}\".format(mean(times), stdev(times)))\n",
    "    return results, times\n",
    "\n",
    "def pure_inv_run(U, basis=bases.fourier_basis, degree=100, representation=representations.EDMD_matrix_representation, n_run=10):\n",
    "    K, V, L = representation(U, degree=degree, basis=basis)\n",
    "    results = []\n",
    "    times = []\n",
    "    for i in range(n_run):\n",
    "        st = time.time()\n",
    "        new_L, new_V = eigensolvers.QR_algorithm_with_inverse_iteration(K)\n",
    "        et = time.time()\n",
    "        r = get_zero_norm_ratio(new_V)\n",
    "        m = (et-st)/60\n",
    "        results.append(r)\n",
    "        times.append(m)\n",
    "        print(f\"i={i} new V: {r} time {m}[m]\")\n",
    "    print(\"ratio mean {:>5.2f}, std {:>5.2f}\".format(mean(results), stdev(results)))\n",
    "    print(\"time  mean {:>5.2f}, std {:>5.2f}\".format(mean(times), stdev(times)))\n",
    "    return results, times"
   ]
  },
  {
   "cell_type": "code",
   "execution_count": 2,
   "metadata": {},
   "outputs": [
    {
     "name": "stdout",
     "output_type": "stream",
     "text": [
      "Ut shape(200, 1)\n"
     ]
    }
   ],
   "source": [
    "Ut = np.expand_dims(get_circle_obs_krylov(), axis=1)\n",
    "print(f\"Ut shape{Ut.shape}\")"
   ]
  },
  {
   "attachments": {},
   "cell_type": "markdown",
   "metadata": {},
   "source": [
    "### No skip"
   ]
  },
  {
   "cell_type": "code",
   "execution_count": 3,
   "metadata": {},
   "outputs": [
    {
     "name": "stdout",
     "output_type": "stream",
     "text": [
      "i=0 new V: 0.5223880597014925 time 20.159166479110716[m]\n",
      "i=1 new V: 0.6616915422885572 time 22.505152014891305[m]\n",
      "i=2 new V: 0.5223880597014925 time 21.000311799844106[m]\n",
      "i=3 new V: 0.5621890547263682 time 21.600652901331582[m]\n",
      "i=4 new V: 0.5223880597014925 time 20.09588698546092[m]\n",
      "i=5 new V: 0.5223880597014925 time 21.18584463596344[m]\n",
      "i=6 new V: 0.29850746268656714 time 14.858158032099405[m]\n",
      "i=7 new V: 0.29850746268656714 time 14.957205363114674[m]\n",
      "i=8 new V: 0.48258706467661694 time 19.967465913295747[m]\n",
      "i=9 new V: 0.42786069651741293 time 18.575653449694315[m]\n",
      "mean  0.48, std  0.11\n",
      "mean 19.49, std  2.64\n"
     ]
    }
   ],
   "source": [
    "ns_results, ns_times = run(Ut)"
   ]
  },
  {
   "cell_type": "code",
   "execution_count": 10,
   "metadata": {},
   "outputs": [
    {
     "name": "stdout",
     "output_type": "stream",
     "text": [
      "ratio mean  0.48[%], std  0.11\n",
      "time  mean 19.49[m], std  2.64\n"
     ]
    }
   ],
   "source": [
    "print(\"ratio mean {:>5.2f}[%], std {:>5.2f}\".format(mean(ns_results), stdev(ns_results)))\n",
    "print(\"time  mean {:>5.2f}[m], std {:>5.2f}\".format(mean(ns_times), stdev(ns_times)))"
   ]
  },
  {
   "attachments": {},
   "cell_type": "markdown",
   "metadata": {},
   "source": [
    "### Stop if it finds zero vector"
   ]
  },
  {
   "cell_type": "code",
   "execution_count": 13,
   "metadata": {},
   "outputs": [
    {
     "name": "stdout",
     "output_type": "stream",
     "text": [
      "i=0 new V: 0.42786069651741293 time 18.555441665649415[m]\n",
      "i=1 new V: 0.48258706467661694 time 19.568171413739524[m]\n",
      "i=2 new V: 0.6965174129353234 time 22.470659550031026[m]\n",
      "i=3 new V: 0.42786069651741293 time 18.557164851824442[m]\n",
      "i=4 new V: 0.34328358208955223 time 16.375960433483122[m]\n",
      "i=5 new V: 0.5223880597014925 time 19.90091269016266[m]\n",
      "i=6 new V: 0.6019900497512438 time 22.05832331577937[m]\n",
      "i=7 new V: 0.40298507462686567 time 17.49313413699468[m]\n",
      "i=8 new V: 0.48258706467661694 time 19.665427366892498[m]\n",
      "i=9 new V: 0.582089552238806 time 21.124796601136527[m]\n",
      "ratio mean  0.50, std  0.11\n",
      "time  mean 19.58, std  1.94\n"
     ]
    }
   ],
   "source": [
    "s_results, s_times = run(Ut)"
   ]
  },
  {
   "attachments": {},
   "cell_type": "markdown",
   "metadata": {},
   "source": [
    "### Pure inverse iteration"
   ]
  },
  {
   "cell_type": "code",
   "execution_count": 3,
   "metadata": {},
   "outputs": [
    {
     "name": "stdout",
     "output_type": "stream",
     "text": [
      "i=0 new V: 1.0 time 0.22982688347498575[m]\n",
      "i=1 new V: 1.0 time 0.21183103322982788[m]\n",
      "i=2 new V: 1.0 time 0.22463393608729046[m]\n",
      "i=3 new V: 1.0 time 0.2087887684504191[m]\n",
      "i=4 new V: 1.0 time 0.20808204809824626[m]\n",
      "i=5 new V: 1.0 time 0.2064029534657796[m]\n",
      "i=6 new V: 1.0 time 0.20931435426076253[m]\n",
      "i=7 new V: 1.0 time 0.21095928351084392[m]\n",
      "i=8 new V: 1.0 time 0.20856939951578776[m]\n",
      "i=9 new V: 1.0 time 0.21178683042526245[m]\n",
      "ratio mean  1.00, std  0.00\n",
      "time  mean  0.21, std  0.01\n"
     ]
    },
    {
     "data": {
      "text/plain": [
       "([1.0, 1.0, 1.0, 1.0, 1.0, 1.0, 1.0, 1.0, 1.0, 1.0],\n",
       " [0.22982688347498575,\n",
       "  0.21183103322982788,\n",
       "  0.22463393608729046,\n",
       "  0.2087887684504191,\n",
       "  0.20808204809824626,\n",
       "  0.2064029534657796,\n",
       "  0.20931435426076253,\n",
       "  0.21095928351084392,\n",
       "  0.20856939951578776,\n",
       "  0.21178683042526245])"
      ]
     },
     "execution_count": 3,
     "metadata": {},
     "output_type": "execute_result"
    }
   ],
   "source": [
    "pure_inv_run(Ut)"
   ]
  },
  {
   "cell_type": "code",
   "execution_count": null,
   "metadata": {},
   "outputs": [],
   "source": []
  }
 ],
 "metadata": {
  "kernelspec": {
   "display_name": "venv",
   "language": "python",
   "name": "python3"
  },
  "language_info": {
   "codemirror_mode": {
    "name": "ipython",
    "version": 3
   },
   "file_extension": ".py",
   "mimetype": "text/x-python",
   "name": "python",
   "nbconvert_exporter": "python",
   "pygments_lexer": "ipython3",
   "version": "3.9.12"
  },
  "orig_nbformat": 4
 },
 "nbformat": 4,
 "nbformat_minor": 2
}
